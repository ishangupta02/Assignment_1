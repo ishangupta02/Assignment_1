{
 "cells": [
  {
   "cell_type": "markdown",
   "id": "f1f69372",
   "metadata": {},
   "source": [
    "# 1.  In the below elements which of them are  values or an expression?"
   ]
  },
  {
   "cell_type": "markdown",
   "id": "b908e94a",
   "metadata": {},
   "source": [
    "'hello'   - is a string\n",
    "\n",
    "-87.8     - is a float value\n",
    "\n",
    "  -       - is a mathematical operation(subtraction)\n",
    "\n",
    "  /       - is a mathematical operation(divide)\n",
    " \n",
    "  +       - is a mathematical operation(addition)\n",
    "\n",
    "  6       - is an integer\n",
    "    "
   ]
  },
  {
   "cell_type": "markdown",
   "id": "162174c3",
   "metadata": {},
   "source": [
    "# 2. What is the difference between a string and a variable?"
   ]
  },
  {
   "cell_type": "markdown",
   "id": "c098698c",
   "metadata": {},
   "source": [
    "A variable is a store of information and a string is a type of information strored in a varialbe.\n",
    "\n",
    "for example- x = \"Hi there!\"\n",
    "here, x is a variable and I declared it as a string"
   ]
  },
  {
   "cell_type": "markdown",
   "id": "9da6cf50",
   "metadata": {},
   "source": [
    "# 3. Describe three different data types."
   ]
  },
  {
   "cell_type": "markdown",
   "id": "7754d7b4",
   "metadata": {},
   "source": [
    "1. Text type = str\n",
    "2. Numeric type = int, float, complex\n",
    "3. Sequence type = list, tuple, range\n",
    "4. Mapping type = dict\n",
    "5. Set type = set\n",
    "6. Boolean type = bool\n",
    "7. None type = none\n",
    "\n",
    "for example:-\n",
    "    \n",
    "x = \"Hello world\"  is a string datatype\n",
    "x = 20  is an integer\n",
    "x = 20.4 is a float\n",
    "x = 30.6j  is a complex\n",
    "x = [2,3,4,\"Ishan\", \"Gupta\", 45.8, 46,9j] is a list\n",
    "x = (2,3,4,\"Ishan\", \"Gupta\", 45.8, 46,9j) is a tuple\n",
    "x = range(::10)   is a range\n",
    "x = {2,3,4,\"Ishan\", \"Gupta\", 45.8, 46,9j} set\n",
    "x = True  is a boolean\n",
    "x = none is a nonetype"
   ]
  },
  {
   "cell_type": "code",
   "execution_count": null,
   "id": "54805a81",
   "metadata": {},
   "outputs": [],
   "source": []
  },
  {
   "cell_type": "markdown",
   "id": "7b9a3830",
   "metadata": {},
   "source": [
    "# 4. What is an expression made up of? What do all expression do?"
   ]
  },
  {
   "cell_type": "markdown",
   "id": "b35811de",
   "metadata": {},
   "source": [
    " Ans-  An expression is a combination of operators and operands that is interpreted to produce some other value.\n",
    "\n",
    "In other words, an expression is a construct made up of variables, operators, and method , which are constructed according to the syntax of the language, that evaluates to a single value. "
   ]
  },
  {
   "cell_type": "code",
   "execution_count": null,
   "id": "35d1c4be",
   "metadata": {},
   "outputs": [],
   "source": []
  },
  {
   "cell_type": "markdown",
   "id": "4cecf057",
   "metadata": {},
   "source": [
    "# 5. This assignment statement, like spam = 10. What is the difference between an expression and a statement?"
   ]
  },
  {
   "cell_type": "markdown",
   "id": "721578e7",
   "metadata": {},
   "source": [
    "\"Statements\" represent an action or command which does not return anything. e.g print statements, assignment statements.\n",
    " \n",
    "Where as an \"expression\" is a combination of variables, operations and values that yields a result value."
   ]
  },
  {
   "cell_type": "code",
   "execution_count": null,
   "id": "f30c08a9",
   "metadata": {},
   "outputs": [],
   "source": []
  },
  {
   "cell_type": "markdown",
   "id": "e695cd9e",
   "metadata": {},
   "source": [
    "# 6. After running the following code, what does the variable bacon contain?\n",
    "\n",
    "## bacon = 22\n",
    "## bacon +1"
   ]
  },
  {
   "cell_type": "code",
   "execution_count": 3,
   "id": "6aa857f3",
   "metadata": {},
   "outputs": [],
   "source": [
    "bacon = 22"
   ]
  },
  {
   "cell_type": "code",
   "execution_count": 4,
   "id": "149fafa6",
   "metadata": {},
   "outputs": [
    {
     "data": {
      "text/plain": [
       "22"
      ]
     },
     "execution_count": 4,
     "metadata": {},
     "output_type": "execute_result"
    }
   ],
   "source": [
    "bacon"
   ]
  },
  {
   "cell_type": "code",
   "execution_count": 5,
   "id": "da171ec4",
   "metadata": {},
   "outputs": [
    {
     "data": {
      "text/plain": [
       "23"
      ]
     },
     "execution_count": 5,
     "metadata": {},
     "output_type": "execute_result"
    }
   ],
   "source": [
    "bacon + 1"
   ]
  },
  {
   "cell_type": "markdown",
   "id": "7e2264a3",
   "metadata": {},
   "source": [
    "Ans- So it returns 23 and it is an integer."
   ]
  },
  {
   "cell_type": "code",
   "execution_count": null,
   "id": "99a6bf87",
   "metadata": {},
   "outputs": [],
   "source": []
  },
  {
   "cell_type": "markdown",
   "id": "d5839d22",
   "metadata": {},
   "source": [
    "# 7. What should the values of the following two terms be?\n",
    "\n",
    "## 'spam' + 'sapmspam'\n",
    "## 'spam' * 3"
   ]
  },
  {
   "cell_type": "code",
   "execution_count": 6,
   "id": "2b70799c",
   "metadata": {},
   "outputs": [
    {
     "data": {
      "text/plain": [
       "'spamspamspam'"
      ]
     },
     "execution_count": 6,
     "metadata": {},
     "output_type": "execute_result"
    }
   ],
   "source": [
    "'spam' + 'spamspam'  #it perform the addition operator and gave the rerult 3 times."
   ]
  },
  {
   "cell_type": "code",
   "execution_count": 7,
   "id": "fb7f99cc",
   "metadata": {},
   "outputs": [
    {
     "data": {
      "text/plain": [
       "'spamspamspam'"
      ]
     },
     "execution_count": 7,
     "metadata": {},
     "output_type": "execute_result"
    }
   ],
   "source": [
    "'spam' * 3    #it performs multiplication operator and gave the result 3 times."
   ]
  },
  {
   "cell_type": "markdown",
   "id": "3a3963f2",
   "metadata": {},
   "source": [
    "# 8. Why is eggs a valid variable name while 100 is invalid?"
   ]
  },
  {
   "cell_type": "markdown",
   "id": "4cf151c0",
   "metadata": {},
   "source": [
    "Ans- Here 'eggs' is a valid variable because variable name always starts with small or capital alphabet \"a,b,c...or A,B,C...\" or underscore '_'.\n",
    "\n",
    "But 100 is a numeral value so it shows an error always because variable does not start with a numeral value."
   ]
  },
  {
   "cell_type": "code",
   "execution_count": null,
   "id": "e62ccb9a",
   "metadata": {},
   "outputs": [],
   "source": []
  }
 ],
 "metadata": {
  "kernelspec": {
   "display_name": "Python 3 (ipykernel)",
   "language": "python",
   "name": "python3"
  },
  "language_info": {
   "codemirror_mode": {
    "name": "ipython",
    "version": 3
   },
   "file_extension": ".py",
   "mimetype": "text/x-python",
   "name": "python",
   "nbconvert_exporter": "python",
   "pygments_lexer": "ipython3",
   "version": "3.9.12"
  }
 },
 "nbformat": 4,
 "nbformat_minor": 5
}
